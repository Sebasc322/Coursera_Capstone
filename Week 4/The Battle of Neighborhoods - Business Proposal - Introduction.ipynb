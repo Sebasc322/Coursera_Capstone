{
 "cells": [
  {
   "cell_type": "markdown",
   "metadata": {},
   "source": [
    "# The Battle of Neighborhoods - Business Proposal - Introduction"
   ]
  },
  {
   "cell_type": "markdown",
   "metadata": {},
   "source": [
    "## Introduction:\n",
    "\n",
    "Toronto is the capital city of the Canadian province of Ontario. With a recorded population of 2,731,571 in 2016, it is the most populous city in Canada and the fourth most populous city in North America. The city is the anchor of the Golden Horseshoe, an urban agglomeration of 9,245,438 people (as of 2016) surrounding the western end of Lake Ontario, while the Greater Toronto Area (GTA) proper had a 2016 population of 6,417,516. Toronto is an international centre of business, finance, arts, and culture, and is recognized as one of the most multicultural and cosmopolitan cities in the world. According to the United Nations Development Programme, Toronto has the second-highest percentage of constant foreign-born population among world cities, after Miami, Florida.\n",
    "\n",
    "According to Thrillist, Food is a big deal in Toronto. Not only do we need it to live, but they’ve come into a foodie destination. New restaurants are constantly opening, and chefs continue to push culinary boundaries to come up with new and innovative ideas. It’s a bit dizzying just how MUCH good stuff there is to eat here. But don’t be daunted.\n",
    "\n",
    "In this project we will analyze all the Italian Restaurants currently present in Toronto, and check the top Italian Restaurants to give a full analysis."
   ]
  },
  {
   "cell_type": "markdown",
   "metadata": {},
   "source": [
    "## Background\n",
    "\n",
    "* **Business Problem**\n",
    "\n",
    "In this project we will check all the Italian Restaurants that are present in Toronto. We will analyse the data of Toronto’s postal codes and see where are the most Italian Restaurants. Yhe major purpose of this project, is to suggest visualize what does the best italian restaurants have and where are they located for future italian restaurants.\n",
    "\n",
    "* **Target Audience**\n",
    "\n",
    "The people who will benefit for this project are future chefs and business persons who will like to set up a new italian restaurant in Toronto, knowing where will be the best point of location in Toronto of where is the best place to set up this new restaurant. Also, to know the highest competitors and what does people expect and like from them.\n"
   ]
  },
  {
   "cell_type": "markdown",
   "metadata": {},
   "source": [
    "## Foursquare API:\n",
    "\n",
    "This project would use Four-square API as its prime data gathering source as it has a database of millions of places, especially their places API which provides the ability to perform location search, location sharing and details about the restaurants that we need."
   ]
  },
  {
   "cell_type": "markdown",
   "metadata": {},
   "source": [
    "## Work Flow:\n",
    "\n",
    "Using Foursquare API credentials, we will mined the diferent italian restaurants around Toronto, and we will search the top 5, and see the diffrerent atributes of each one of them. "
   ]
  },
  {
   "cell_type": "markdown",
   "metadata": {},
   "source": [
    "## Libraries Which are Used to Develope the Project:\n",
    "\n"
   ]
  }
 ],
 "metadata": {
  "kernelspec": {
   "display_name": "Python",
   "language": "python",
   "name": "conda-env-python-py"
  },
  "language_info": {
   "codemirror_mode": {
    "name": "ipython",
    "version": 3
   },
   "file_extension": ".py",
   "mimetype": "text/x-python",
   "name": "python",
   "nbconvert_exporter": "python",
   "pygments_lexer": "ipython3",
   "version": "3.6.11"
  }
 },
 "nbformat": 4,
 "nbformat_minor": 4
}
